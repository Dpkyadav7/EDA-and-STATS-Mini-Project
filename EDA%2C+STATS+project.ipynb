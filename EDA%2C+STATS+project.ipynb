{
 "cells": [
  {
   "cell_type": "code",
   "execution_count": 1,
   "id": "2599081f",
   "metadata": {},
   "outputs": [],
   "source": [
    "import numpy as np\n",
    "import pandas as pd\n",
    "from scipy import stats\n",
    "import statistics\n",
    "from statistics import stdev\n",
    "import matplotlib.pyplot as plt\n",
    "import seaborn as sns\n",
    "from scipy.stats import f_oneway\n",
    "from scipy.stats import shapiro\n",
    "from scipy.stats import chi2_contingency"
   ]
  },
  {
   "cell_type": "code",
   "execution_count": 2,
   "id": "b35caffc",
   "metadata": {},
   "outputs": [
    {
     "data": {
      "text/html": [
       "<div>\n",
       "<style scoped>\n",
       "    .dataframe tbody tr th:only-of-type {\n",
       "        vertical-align: middle;\n",
       "    }\n",
       "\n",
       "    .dataframe tbody tr th {\n",
       "        vertical-align: top;\n",
       "    }\n",
       "\n",
       "    .dataframe thead th {\n",
       "        text-align: right;\n",
       "    }\n",
       "</style>\n",
       "<table border=\"1\" class=\"dataframe\">\n",
       "  <thead>\n",
       "    <tr style=\"text-align: right;\">\n",
       "      <th></th>\n",
       "      <th>item_id</th>\n",
       "      <th>waist</th>\n",
       "      <th>size</th>\n",
       "      <th>quality</th>\n",
       "      <th>cup size</th>\n",
       "      <th>hips</th>\n",
       "      <th>bra size</th>\n",
       "      <th>category</th>\n",
       "      <th>bust</th>\n",
       "      <th>height</th>\n",
       "      <th>user_name</th>\n",
       "      <th>length</th>\n",
       "      <th>fit</th>\n",
       "      <th>user_id</th>\n",
       "      <th>shoe size</th>\n",
       "      <th>shoe width</th>\n",
       "      <th>review_summary</th>\n",
       "      <th>review_text</th>\n",
       "    </tr>\n",
       "  </thead>\n",
       "  <tbody>\n",
       "    <tr>\n",
       "      <th>0</th>\n",
       "      <td>123373</td>\n",
       "      <td>29.0</td>\n",
       "      <td>7</td>\n",
       "      <td>5.0</td>\n",
       "      <td>d</td>\n",
       "      <td>38.0</td>\n",
       "      <td>34.0</td>\n",
       "      <td>new</td>\n",
       "      <td>36</td>\n",
       "      <td>5ft 6in</td>\n",
       "      <td>Emily</td>\n",
       "      <td>just right</td>\n",
       "      <td>small</td>\n",
       "      <td>991571</td>\n",
       "      <td>NaN</td>\n",
       "      <td>NaN</td>\n",
       "      <td>NaN</td>\n",
       "      <td>NaN</td>\n",
       "    </tr>\n",
       "    <tr>\n",
       "      <th>1</th>\n",
       "      <td>123373</td>\n",
       "      <td>31.0</td>\n",
       "      <td>13</td>\n",
       "      <td>3.0</td>\n",
       "      <td>b</td>\n",
       "      <td>30.0</td>\n",
       "      <td>36.0</td>\n",
       "      <td>new</td>\n",
       "      <td>NaN</td>\n",
       "      <td>5ft 2in</td>\n",
       "      <td>sydneybraden2001</td>\n",
       "      <td>just right</td>\n",
       "      <td>small</td>\n",
       "      <td>587883</td>\n",
       "      <td>NaN</td>\n",
       "      <td>NaN</td>\n",
       "      <td>NaN</td>\n",
       "      <td>NaN</td>\n",
       "    </tr>\n",
       "    <tr>\n",
       "      <th>2</th>\n",
       "      <td>123373</td>\n",
       "      <td>30.0</td>\n",
       "      <td>7</td>\n",
       "      <td>2.0</td>\n",
       "      <td>b</td>\n",
       "      <td>NaN</td>\n",
       "      <td>32.0</td>\n",
       "      <td>new</td>\n",
       "      <td>NaN</td>\n",
       "      <td>5ft 7in</td>\n",
       "      <td>Ugggh</td>\n",
       "      <td>slightly long</td>\n",
       "      <td>small</td>\n",
       "      <td>395665</td>\n",
       "      <td>9.0</td>\n",
       "      <td>NaN</td>\n",
       "      <td>NaN</td>\n",
       "      <td>NaN</td>\n",
       "    </tr>\n",
       "    <tr>\n",
       "      <th>3</th>\n",
       "      <td>123373</td>\n",
       "      <td>NaN</td>\n",
       "      <td>21</td>\n",
       "      <td>5.0</td>\n",
       "      <td>dd/e</td>\n",
       "      <td>NaN</td>\n",
       "      <td>NaN</td>\n",
       "      <td>new</td>\n",
       "      <td>NaN</td>\n",
       "      <td>NaN</td>\n",
       "      <td>alexmeyer626</td>\n",
       "      <td>just right</td>\n",
       "      <td>fit</td>\n",
       "      <td>875643</td>\n",
       "      <td>NaN</td>\n",
       "      <td>NaN</td>\n",
       "      <td>NaN</td>\n",
       "      <td>NaN</td>\n",
       "    </tr>\n",
       "    <tr>\n",
       "      <th>4</th>\n",
       "      <td>123373</td>\n",
       "      <td>NaN</td>\n",
       "      <td>18</td>\n",
       "      <td>5.0</td>\n",
       "      <td>b</td>\n",
       "      <td>NaN</td>\n",
       "      <td>36.0</td>\n",
       "      <td>new</td>\n",
       "      <td>NaN</td>\n",
       "      <td>5ft 2in</td>\n",
       "      <td>dberrones1</td>\n",
       "      <td>slightly long</td>\n",
       "      <td>small</td>\n",
       "      <td>944840</td>\n",
       "      <td>NaN</td>\n",
       "      <td>NaN</td>\n",
       "      <td>NaN</td>\n",
       "      <td>NaN</td>\n",
       "    </tr>\n",
       "    <tr>\n",
       "      <th>5</th>\n",
       "      <td>123373</td>\n",
       "      <td>27.0</td>\n",
       "      <td>11</td>\n",
       "      <td>5.0</td>\n",
       "      <td>c</td>\n",
       "      <td>41.0</td>\n",
       "      <td>36.0</td>\n",
       "      <td>new</td>\n",
       "      <td>NaN</td>\n",
       "      <td>5ft 4in</td>\n",
       "      <td>Doreenajane</td>\n",
       "      <td>just right</td>\n",
       "      <td>small</td>\n",
       "      <td>162012</td>\n",
       "      <td>NaN</td>\n",
       "      <td>NaN</td>\n",
       "      <td>NaN</td>\n",
       "      <td>NaN</td>\n",
       "    </tr>\n",
       "    <tr>\n",
       "      <th>6</th>\n",
       "      <td>123373</td>\n",
       "      <td>26.0</td>\n",
       "      <td>5</td>\n",
       "      <td>1.0</td>\n",
       "      <td>b</td>\n",
       "      <td>NaN</td>\n",
       "      <td>32.0</td>\n",
       "      <td>new</td>\n",
       "      <td>NaN</td>\n",
       "      <td>5ft 3in</td>\n",
       "      <td>barbiejenks</td>\n",
       "      <td>just right</td>\n",
       "      <td>large</td>\n",
       "      <td>114843</td>\n",
       "      <td>NaN</td>\n",
       "      <td>NaN</td>\n",
       "      <td>NaN</td>\n",
       "      <td>NaN</td>\n",
       "    </tr>\n",
       "    <tr>\n",
       "      <th>7</th>\n",
       "      <td>123373</td>\n",
       "      <td>NaN</td>\n",
       "      <td>11</td>\n",
       "      <td>5.0</td>\n",
       "      <td>d</td>\n",
       "      <td>42.0</td>\n",
       "      <td>38.0</td>\n",
       "      <td>new</td>\n",
       "      <td>NaN</td>\n",
       "      <td>5ft 5in</td>\n",
       "      <td>brettloie</td>\n",
       "      <td>just right</td>\n",
       "      <td>small</td>\n",
       "      <td>58869</td>\n",
       "      <td>8.5</td>\n",
       "      <td>NaN</td>\n",
       "      <td>NaN</td>\n",
       "      <td>NaN</td>\n",
       "    </tr>\n",
       "    <tr>\n",
       "      <th>8</th>\n",
       "      <td>123373</td>\n",
       "      <td>NaN</td>\n",
       "      <td>30</td>\n",
       "      <td>4.0</td>\n",
       "      <td>d</td>\n",
       "      <td>50.0</td>\n",
       "      <td>42.0</td>\n",
       "      <td>new</td>\n",
       "      <td>NaN</td>\n",
       "      <td>5ft 10in</td>\n",
       "      <td>francescaviola</td>\n",
       "      <td>just right</td>\n",
       "      <td>small</td>\n",
       "      <td>279568</td>\n",
       "      <td>11.0</td>\n",
       "      <td>wide</td>\n",
       "      <td>NaN</td>\n",
       "      <td>NaN</td>\n",
       "    </tr>\n",
       "    <tr>\n",
       "      <th>9</th>\n",
       "      <td>123373</td>\n",
       "      <td>NaN</td>\n",
       "      <td>13</td>\n",
       "      <td>5.0</td>\n",
       "      <td>dd/e</td>\n",
       "      <td>41.0</td>\n",
       "      <td>36.0</td>\n",
       "      <td>new</td>\n",
       "      <td>39</td>\n",
       "      <td>5ft 6in</td>\n",
       "      <td>laurenpolzin</td>\n",
       "      <td>just right</td>\n",
       "      <td>fit</td>\n",
       "      <td>950172</td>\n",
       "      <td>9.0</td>\n",
       "      <td>NaN</td>\n",
       "      <td>NaN</td>\n",
       "      <td>NaN</td>\n",
       "    </tr>\n",
       "  </tbody>\n",
       "</table>\n",
       "</div>"
      ],
      "text/plain": [
       "   item_id  waist  size  quality cup size  hips  bra size category bust  \\\n",
       "0   123373   29.0     7      5.0        d  38.0      34.0      new   36   \n",
       "1   123373   31.0    13      3.0        b  30.0      36.0      new  NaN   \n",
       "2   123373   30.0     7      2.0        b   NaN      32.0      new  NaN   \n",
       "3   123373    NaN    21      5.0     dd/e   NaN       NaN      new  NaN   \n",
       "4   123373    NaN    18      5.0        b   NaN      36.0      new  NaN   \n",
       "5   123373   27.0    11      5.0        c  41.0      36.0      new  NaN   \n",
       "6   123373   26.0     5      1.0        b   NaN      32.0      new  NaN   \n",
       "7   123373    NaN    11      5.0        d  42.0      38.0      new  NaN   \n",
       "8   123373    NaN    30      4.0        d  50.0      42.0      new  NaN   \n",
       "9   123373    NaN    13      5.0     dd/e  41.0      36.0      new   39   \n",
       "\n",
       "     height         user_name         length    fit  user_id  shoe size  \\\n",
       "0   5ft 6in             Emily     just right  small   991571        NaN   \n",
       "1   5ft 2in  sydneybraden2001     just right  small   587883        NaN   \n",
       "2   5ft 7in             Ugggh  slightly long  small   395665        9.0   \n",
       "3       NaN      alexmeyer626     just right    fit   875643        NaN   \n",
       "4   5ft 2in        dberrones1  slightly long  small   944840        NaN   \n",
       "5   5ft 4in       Doreenajane     just right  small   162012        NaN   \n",
       "6   5ft 3in       barbiejenks     just right  large   114843        NaN   \n",
       "7   5ft 5in         brettloie     just right  small    58869        8.5   \n",
       "8  5ft 10in    francescaviola     just right  small   279568       11.0   \n",
       "9   5ft 6in      laurenpolzin     just right    fit   950172        9.0   \n",
       "\n",
       "  shoe width review_summary review_text  \n",
       "0        NaN            NaN         NaN  \n",
       "1        NaN            NaN         NaN  \n",
       "2        NaN            NaN         NaN  \n",
       "3        NaN            NaN         NaN  \n",
       "4        NaN            NaN         NaN  \n",
       "5        NaN            NaN         NaN  \n",
       "6        NaN            NaN         NaN  \n",
       "7        NaN            NaN         NaN  \n",
       "8       wide            NaN         NaN  \n",
       "9        NaN            NaN         NaN  "
      ]
     },
     "execution_count": 2,
     "metadata": {},
     "output_type": "execute_result"
    }
   ],
   "source": [
    "df = pd.read_json('modcloth_final_data.json',encoding_errors='ignore',lines = True)\n",
    "df.head(10)"
   ]
  },
  {
   "cell_type": "markdown",
   "id": "dc065297",
   "metadata": {},
   "source": [
    "1. Read the datasets, Check the data types and Change the data types appropriately."
   ]
  },
  {
   "cell_type": "code",
   "execution_count": 3,
   "id": "a83ef505",
   "metadata": {},
   "outputs": [
    {
     "name": "stdout",
     "output_type": "stream",
     "text": [
      "<class 'pandas.core.frame.DataFrame'>\n",
      "RangeIndex: 82790 entries, 0 to 82789\n",
      "Data columns (total 18 columns):\n",
      " #   Column          Non-Null Count  Dtype  \n",
      "---  ------          --------------  -----  \n",
      " 0   item_id         82790 non-null  int64  \n",
      " 1   waist           2882 non-null   float64\n",
      " 2   size            82790 non-null  int64  \n",
      " 3   quality         82722 non-null  float64\n",
      " 4   cup size        76535 non-null  object \n",
      " 5   hips            56064 non-null  float64\n",
      " 6   bra size        76772 non-null  float64\n",
      " 7   category        82790 non-null  object \n",
      " 8   bust            11854 non-null  object \n",
      " 9   height          81683 non-null  object \n",
      " 10  user_name       82790 non-null  object \n",
      " 11  length          82755 non-null  object \n",
      " 12  fit             82790 non-null  object \n",
      " 13  user_id         82790 non-null  int64  \n",
      " 14  shoe size       27915 non-null  float64\n",
      " 15  shoe width      18607 non-null  object \n",
      " 16  review_summary  76065 non-null  object \n",
      " 17  review_text     76065 non-null  object \n",
      "dtypes: float64(5), int64(3), object(10)\n",
      "memory usage: 11.4+ MB\n"
     ]
    }
   ],
   "source": [
    "df.info()"
   ]
  },
  {
   "cell_type": "code",
   "execution_count": 4,
   "id": "cf99c3ad",
   "metadata": {},
   "outputs": [],
   "source": [
    "df['item_id'] = df['item_id'].astype('object')\n",
    "df['user_id'] = df['user_id'].astype('object')\n",
    "df['bust'] = pd.to_numeric(df['bust'],errors = 'coerce')"
   ]
  },
  {
   "cell_type": "markdown",
   "id": "0e14cd42",
   "metadata": {},
   "source": [
    "2. Change the height column datatype to float after converting the values as shown Below. 5.7"
   ]
  },
  {
   "cell_type": "code",
   "execution_count": 5,
   "id": "cccd50f6",
   "metadata": {},
   "outputs": [],
   "source": [
    "df['height'] = df['height'].str.replace('ft ','.')\n",
    "df['height'] = df['height'].str.replace('in',' ')\n",
    "df['height'] = pd.to_numeric(df['height'],errors = 'coerce')"
   ]
  },
  {
   "cell_type": "code",
   "execution_count": 6,
   "id": "c73118e1",
   "metadata": {},
   "outputs": [
    {
     "data": {
      "text/html": [
       "<div>\n",
       "<style scoped>\n",
       "    .dataframe tbody tr th:only-of-type {\n",
       "        vertical-align: middle;\n",
       "    }\n",
       "\n",
       "    .dataframe tbody tr th {\n",
       "        vertical-align: top;\n",
       "    }\n",
       "\n",
       "    .dataframe thead th {\n",
       "        text-align: right;\n",
       "    }\n",
       "</style>\n",
       "<table border=\"1\" class=\"dataframe\">\n",
       "  <thead>\n",
       "    <tr style=\"text-align: right;\">\n",
       "      <th></th>\n",
       "      <th>item_id</th>\n",
       "      <th>waist</th>\n",
       "      <th>size</th>\n",
       "      <th>quality</th>\n",
       "      <th>cup size</th>\n",
       "      <th>hips</th>\n",
       "      <th>bra size</th>\n",
       "      <th>category</th>\n",
       "      <th>bust</th>\n",
       "      <th>height</th>\n",
       "      <th>user_name</th>\n",
       "      <th>length</th>\n",
       "      <th>fit</th>\n",
       "      <th>user_id</th>\n",
       "      <th>shoe size</th>\n",
       "      <th>shoe width</th>\n",
       "      <th>review_summary</th>\n",
       "      <th>review_text</th>\n",
       "    </tr>\n",
       "  </thead>\n",
       "  <tbody>\n",
       "    <tr>\n",
       "      <th>0</th>\n",
       "      <td>123373</td>\n",
       "      <td>29.0</td>\n",
       "      <td>7</td>\n",
       "      <td>5.0</td>\n",
       "      <td>d</td>\n",
       "      <td>38.0</td>\n",
       "      <td>34.0</td>\n",
       "      <td>new</td>\n",
       "      <td>36.0</td>\n",
       "      <td>5.6</td>\n",
       "      <td>Emily</td>\n",
       "      <td>just right</td>\n",
       "      <td>small</td>\n",
       "      <td>991571</td>\n",
       "      <td>NaN</td>\n",
       "      <td>NaN</td>\n",
       "      <td>NaN</td>\n",
       "      <td>NaN</td>\n",
       "    </tr>\n",
       "    <tr>\n",
       "      <th>1</th>\n",
       "      <td>123373</td>\n",
       "      <td>31.0</td>\n",
       "      <td>13</td>\n",
       "      <td>3.0</td>\n",
       "      <td>b</td>\n",
       "      <td>30.0</td>\n",
       "      <td>36.0</td>\n",
       "      <td>new</td>\n",
       "      <td>NaN</td>\n",
       "      <td>5.2</td>\n",
       "      <td>sydneybraden2001</td>\n",
       "      <td>just right</td>\n",
       "      <td>small</td>\n",
       "      <td>587883</td>\n",
       "      <td>NaN</td>\n",
       "      <td>NaN</td>\n",
       "      <td>NaN</td>\n",
       "      <td>NaN</td>\n",
       "    </tr>\n",
       "    <tr>\n",
       "      <th>2</th>\n",
       "      <td>123373</td>\n",
       "      <td>30.0</td>\n",
       "      <td>7</td>\n",
       "      <td>2.0</td>\n",
       "      <td>b</td>\n",
       "      <td>NaN</td>\n",
       "      <td>32.0</td>\n",
       "      <td>new</td>\n",
       "      <td>NaN</td>\n",
       "      <td>5.7</td>\n",
       "      <td>Ugggh</td>\n",
       "      <td>slightly long</td>\n",
       "      <td>small</td>\n",
       "      <td>395665</td>\n",
       "      <td>9.0</td>\n",
       "      <td>NaN</td>\n",
       "      <td>NaN</td>\n",
       "      <td>NaN</td>\n",
       "    </tr>\n",
       "    <tr>\n",
       "      <th>3</th>\n",
       "      <td>123373</td>\n",
       "      <td>NaN</td>\n",
       "      <td>21</td>\n",
       "      <td>5.0</td>\n",
       "      <td>dd/e</td>\n",
       "      <td>NaN</td>\n",
       "      <td>NaN</td>\n",
       "      <td>new</td>\n",
       "      <td>NaN</td>\n",
       "      <td>NaN</td>\n",
       "      <td>alexmeyer626</td>\n",
       "      <td>just right</td>\n",
       "      <td>fit</td>\n",
       "      <td>875643</td>\n",
       "      <td>NaN</td>\n",
       "      <td>NaN</td>\n",
       "      <td>NaN</td>\n",
       "      <td>NaN</td>\n",
       "    </tr>\n",
       "    <tr>\n",
       "      <th>4</th>\n",
       "      <td>123373</td>\n",
       "      <td>NaN</td>\n",
       "      <td>18</td>\n",
       "      <td>5.0</td>\n",
       "      <td>b</td>\n",
       "      <td>NaN</td>\n",
       "      <td>36.0</td>\n",
       "      <td>new</td>\n",
       "      <td>NaN</td>\n",
       "      <td>5.2</td>\n",
       "      <td>dberrones1</td>\n",
       "      <td>slightly long</td>\n",
       "      <td>small</td>\n",
       "      <td>944840</td>\n",
       "      <td>NaN</td>\n",
       "      <td>NaN</td>\n",
       "      <td>NaN</td>\n",
       "      <td>NaN</td>\n",
       "    </tr>\n",
       "  </tbody>\n",
       "</table>\n",
       "</div>"
      ],
      "text/plain": [
       "  item_id  waist  size  quality cup size  hips  bra size category  bust  \\\n",
       "0  123373   29.0     7      5.0        d  38.0      34.0      new  36.0   \n",
       "1  123373   31.0    13      3.0        b  30.0      36.0      new   NaN   \n",
       "2  123373   30.0     7      2.0        b   NaN      32.0      new   NaN   \n",
       "3  123373    NaN    21      5.0     dd/e   NaN       NaN      new   NaN   \n",
       "4  123373    NaN    18      5.0        b   NaN      36.0      new   NaN   \n",
       "\n",
       "   height         user_name         length    fit user_id  shoe size  \\\n",
       "0     5.6             Emily     just right  small  991571        NaN   \n",
       "1     5.2  sydneybraden2001     just right  small  587883        NaN   \n",
       "2     5.7             Ugggh  slightly long  small  395665        9.0   \n",
       "3     NaN      alexmeyer626     just right    fit  875643        NaN   \n",
       "4     5.2        dberrones1  slightly long  small  944840        NaN   \n",
       "\n",
       "  shoe width review_summary review_text  \n",
       "0        NaN            NaN         NaN  \n",
       "1        NaN            NaN         NaN  \n",
       "2        NaN            NaN         NaN  \n",
       "3        NaN            NaN         NaN  \n",
       "4        NaN            NaN         NaN  "
      ]
     },
     "execution_count": 6,
     "metadata": {},
     "output_type": "execute_result"
    }
   ],
   "source": [
    "df.head()"
   ]
  },
  {
   "cell_type": "code",
   "execution_count": 7,
   "id": "584002e9",
   "metadata": {},
   "outputs": [
    {
     "data": {
      "text/plain": [
       "item_id            object\n",
       "waist             float64\n",
       "size                int64\n",
       "quality           float64\n",
       "cup size           object\n",
       "hips              float64\n",
       "bra size          float64\n",
       "category           object\n",
       "bust              float64\n",
       "height            float64\n",
       "user_name          object\n",
       "length             object\n",
       "fit                object\n",
       "user_id            object\n",
       "shoe size         float64\n",
       "shoe width         object\n",
       "review_summary     object\n",
       "review_text        object\n",
       "dtype: object"
      ]
     },
     "execution_count": 7,
     "metadata": {},
     "output_type": "execute_result"
    }
   ],
   "source": [
    "df.dtypes"
   ]
  },
  {
   "cell_type": "markdown",
   "id": "a20eb3bb",
   "metadata": {},
   "source": [
    "3. Rename the names of the columns which have space in between the column.\n",
    "Ex: shoe size as shoe_size etc."
   ]
  },
  {
   "cell_type": "code",
   "execution_count": 8,
   "id": "42f927d4",
   "metadata": {},
   "outputs": [
    {
     "data": {
      "text/plain": [
       "Index(['item_id', 'waist', 'size', 'quality', 'cup size', 'hips', 'bra size',\n",
       "       'category', 'bust', 'height', 'user_name', 'length', 'fit', 'user_id',\n",
       "       'shoe size', 'shoe width', 'review_summary', 'review_text'],\n",
       "      dtype='object')"
      ]
     },
     "execution_count": 8,
     "metadata": {},
     "output_type": "execute_result"
    }
   ],
   "source": [
    "df.columns"
   ]
  },
  {
   "cell_type": "code",
   "execution_count": 9,
   "id": "a4ffbe0d",
   "metadata": {},
   "outputs": [],
   "source": [
    "df.columns = df.columns.str.replace(' ', '_')"
   ]
  },
  {
   "cell_type": "code",
   "execution_count": 10,
   "id": "1bb11554",
   "metadata": {},
   "outputs": [
    {
     "data": {
      "text/html": [
       "<div>\n",
       "<style scoped>\n",
       "    .dataframe tbody tr th:only-of-type {\n",
       "        vertical-align: middle;\n",
       "    }\n",
       "\n",
       "    .dataframe tbody tr th {\n",
       "        vertical-align: top;\n",
       "    }\n",
       "\n",
       "    .dataframe thead th {\n",
       "        text-align: right;\n",
       "    }\n",
       "</style>\n",
       "<table border=\"1\" class=\"dataframe\">\n",
       "  <thead>\n",
       "    <tr style=\"text-align: right;\">\n",
       "      <th></th>\n",
       "      <th>item_id</th>\n",
       "      <th>waist</th>\n",
       "      <th>size</th>\n",
       "      <th>quality</th>\n",
       "      <th>cup_size</th>\n",
       "      <th>hips</th>\n",
       "      <th>bra_size</th>\n",
       "      <th>category</th>\n",
       "      <th>bust</th>\n",
       "      <th>height</th>\n",
       "      <th>user_name</th>\n",
       "      <th>length</th>\n",
       "      <th>fit</th>\n",
       "      <th>user_id</th>\n",
       "      <th>shoe_size</th>\n",
       "      <th>shoe_width</th>\n",
       "      <th>review_summary</th>\n",
       "      <th>review_text</th>\n",
       "    </tr>\n",
       "  </thead>\n",
       "  <tbody>\n",
       "    <tr>\n",
       "      <th>0</th>\n",
       "      <td>123373</td>\n",
       "      <td>29.0</td>\n",
       "      <td>7</td>\n",
       "      <td>5.0</td>\n",
       "      <td>d</td>\n",
       "      <td>38.0</td>\n",
       "      <td>34.0</td>\n",
       "      <td>new</td>\n",
       "      <td>36.0</td>\n",
       "      <td>5.6</td>\n",
       "      <td>Emily</td>\n",
       "      <td>just right</td>\n",
       "      <td>small</td>\n",
       "      <td>991571</td>\n",
       "      <td>NaN</td>\n",
       "      <td>NaN</td>\n",
       "      <td>NaN</td>\n",
       "      <td>NaN</td>\n",
       "    </tr>\n",
       "    <tr>\n",
       "      <th>1</th>\n",
       "      <td>123373</td>\n",
       "      <td>31.0</td>\n",
       "      <td>13</td>\n",
       "      <td>3.0</td>\n",
       "      <td>b</td>\n",
       "      <td>30.0</td>\n",
       "      <td>36.0</td>\n",
       "      <td>new</td>\n",
       "      <td>NaN</td>\n",
       "      <td>5.2</td>\n",
       "      <td>sydneybraden2001</td>\n",
       "      <td>just right</td>\n",
       "      <td>small</td>\n",
       "      <td>587883</td>\n",
       "      <td>NaN</td>\n",
       "      <td>NaN</td>\n",
       "      <td>NaN</td>\n",
       "      <td>NaN</td>\n",
       "    </tr>\n",
       "    <tr>\n",
       "      <th>2</th>\n",
       "      <td>123373</td>\n",
       "      <td>30.0</td>\n",
       "      <td>7</td>\n",
       "      <td>2.0</td>\n",
       "      <td>b</td>\n",
       "      <td>NaN</td>\n",
       "      <td>32.0</td>\n",
       "      <td>new</td>\n",
       "      <td>NaN</td>\n",
       "      <td>5.7</td>\n",
       "      <td>Ugggh</td>\n",
       "      <td>slightly long</td>\n",
       "      <td>small</td>\n",
       "      <td>395665</td>\n",
       "      <td>9.0</td>\n",
       "      <td>NaN</td>\n",
       "      <td>NaN</td>\n",
       "      <td>NaN</td>\n",
       "    </tr>\n",
       "    <tr>\n",
       "      <th>3</th>\n",
       "      <td>123373</td>\n",
       "      <td>NaN</td>\n",
       "      <td>21</td>\n",
       "      <td>5.0</td>\n",
       "      <td>dd/e</td>\n",
       "      <td>NaN</td>\n",
       "      <td>NaN</td>\n",
       "      <td>new</td>\n",
       "      <td>NaN</td>\n",
       "      <td>NaN</td>\n",
       "      <td>alexmeyer626</td>\n",
       "      <td>just right</td>\n",
       "      <td>fit</td>\n",
       "      <td>875643</td>\n",
       "      <td>NaN</td>\n",
       "      <td>NaN</td>\n",
       "      <td>NaN</td>\n",
       "      <td>NaN</td>\n",
       "    </tr>\n",
       "    <tr>\n",
       "      <th>4</th>\n",
       "      <td>123373</td>\n",
       "      <td>NaN</td>\n",
       "      <td>18</td>\n",
       "      <td>5.0</td>\n",
       "      <td>b</td>\n",
       "      <td>NaN</td>\n",
       "      <td>36.0</td>\n",
       "      <td>new</td>\n",
       "      <td>NaN</td>\n",
       "      <td>5.2</td>\n",
       "      <td>dberrones1</td>\n",
       "      <td>slightly long</td>\n",
       "      <td>small</td>\n",
       "      <td>944840</td>\n",
       "      <td>NaN</td>\n",
       "      <td>NaN</td>\n",
       "      <td>NaN</td>\n",
       "      <td>NaN</td>\n",
       "    </tr>\n",
       "  </tbody>\n",
       "</table>\n",
       "</div>"
      ],
      "text/plain": [
       "  item_id  waist  size  quality cup_size  hips  bra_size category  bust  \\\n",
       "0  123373   29.0     7      5.0        d  38.0      34.0      new  36.0   \n",
       "1  123373   31.0    13      3.0        b  30.0      36.0      new   NaN   \n",
       "2  123373   30.0     7      2.0        b   NaN      32.0      new   NaN   \n",
       "3  123373    NaN    21      5.0     dd/e   NaN       NaN      new   NaN   \n",
       "4  123373    NaN    18      5.0        b   NaN      36.0      new   NaN   \n",
       "\n",
       "   height         user_name         length    fit user_id  shoe_size  \\\n",
       "0     5.6             Emily     just right  small  991571        NaN   \n",
       "1     5.2  sydneybraden2001     just right  small  587883        NaN   \n",
       "2     5.7             Ugggh  slightly long  small  395665        9.0   \n",
       "3     NaN      alexmeyer626     just right    fit  875643        NaN   \n",
       "4     5.2        dberrones1  slightly long  small  944840        NaN   \n",
       "\n",
       "  shoe_width review_summary review_text  \n",
       "0        NaN            NaN         NaN  \n",
       "1        NaN            NaN         NaN  \n",
       "2        NaN            NaN         NaN  \n",
       "3        NaN            NaN         NaN  \n",
       "4        NaN            NaN         NaN  "
      ]
     },
     "execution_count": 10,
     "metadata": {},
     "output_type": "execute_result"
    }
   ],
   "source": [
    "df.head()"
   ]
  },
  {
   "cell_type": "markdown",
   "id": "add6efdc",
   "metadata": {},
   "source": [
    "4. Check the missing values and Identify the distribution of the variables to impute the\n",
    "missing values. Explain based on your analysis decide the features which can be dropped and Which can be imputed. And also explain the reason to choose the metric that you have chosen to impute the null values."
   ]
  },
  {
   "cell_type": "markdown",
   "id": "901700bd",
   "metadata": {},
   "source": [
    "Note: Kindly copy the datasets and work on the new data frame.\n",
    "4.1 Check the count and percentage of missing values."
   ]
  },
  {
   "cell_type": "code",
   "execution_count": 11,
   "id": "9cfff1ec",
   "metadata": {},
   "outputs": [],
   "source": [
    "df1 = df.copy()"
   ]
  },
  {
   "cell_type": "code",
   "execution_count": 12,
   "id": "44310ddb",
   "metadata": {},
   "outputs": [
    {
     "data": {
      "text/html": [
       "<div>\n",
       "<style scoped>\n",
       "    .dataframe tbody tr th:only-of-type {\n",
       "        vertical-align: middle;\n",
       "    }\n",
       "\n",
       "    .dataframe tbody tr th {\n",
       "        vertical-align: top;\n",
       "    }\n",
       "\n",
       "    .dataframe thead th {\n",
       "        text-align: right;\n",
       "    }\n",
       "</style>\n",
       "<table border=\"1\" class=\"dataframe\">\n",
       "  <thead>\n",
       "    <tr style=\"text-align: right;\">\n",
       "      <th></th>\n",
       "      <th>item_id</th>\n",
       "      <th>waist</th>\n",
       "      <th>size</th>\n",
       "      <th>quality</th>\n",
       "      <th>cup_size</th>\n",
       "      <th>hips</th>\n",
       "      <th>bra_size</th>\n",
       "      <th>category</th>\n",
       "      <th>bust</th>\n",
       "      <th>height</th>\n",
       "      <th>user_name</th>\n",
       "      <th>length</th>\n",
       "      <th>fit</th>\n",
       "      <th>user_id</th>\n",
       "      <th>shoe_size</th>\n",
       "      <th>shoe_width</th>\n",
       "      <th>review_summary</th>\n",
       "      <th>review_text</th>\n",
       "    </tr>\n",
       "  </thead>\n",
       "  <tbody>\n",
       "    <tr>\n",
       "      <th>0</th>\n",
       "      <td>123373</td>\n",
       "      <td>29.0</td>\n",
       "      <td>7</td>\n",
       "      <td>5.0</td>\n",
       "      <td>d</td>\n",
       "      <td>38.0</td>\n",
       "      <td>34.0</td>\n",
       "      <td>new</td>\n",
       "      <td>36.0</td>\n",
       "      <td>5.6</td>\n",
       "      <td>Emily</td>\n",
       "      <td>just right</td>\n",
       "      <td>small</td>\n",
       "      <td>991571</td>\n",
       "      <td>NaN</td>\n",
       "      <td>NaN</td>\n",
       "      <td>NaN</td>\n",
       "      <td>NaN</td>\n",
       "    </tr>\n",
       "    <tr>\n",
       "      <th>1</th>\n",
       "      <td>123373</td>\n",
       "      <td>31.0</td>\n",
       "      <td>13</td>\n",
       "      <td>3.0</td>\n",
       "      <td>b</td>\n",
       "      <td>30.0</td>\n",
       "      <td>36.0</td>\n",
       "      <td>new</td>\n",
       "      <td>NaN</td>\n",
       "      <td>5.2</td>\n",
       "      <td>sydneybraden2001</td>\n",
       "      <td>just right</td>\n",
       "      <td>small</td>\n",
       "      <td>587883</td>\n",
       "      <td>NaN</td>\n",
       "      <td>NaN</td>\n",
       "      <td>NaN</td>\n",
       "      <td>NaN</td>\n",
       "    </tr>\n",
       "    <tr>\n",
       "      <th>2</th>\n",
       "      <td>123373</td>\n",
       "      <td>30.0</td>\n",
       "      <td>7</td>\n",
       "      <td>2.0</td>\n",
       "      <td>b</td>\n",
       "      <td>NaN</td>\n",
       "      <td>32.0</td>\n",
       "      <td>new</td>\n",
       "      <td>NaN</td>\n",
       "      <td>5.7</td>\n",
       "      <td>Ugggh</td>\n",
       "      <td>slightly long</td>\n",
       "      <td>small</td>\n",
       "      <td>395665</td>\n",
       "      <td>9.0</td>\n",
       "      <td>NaN</td>\n",
       "      <td>NaN</td>\n",
       "      <td>NaN</td>\n",
       "    </tr>\n",
       "    <tr>\n",
       "      <th>3</th>\n",
       "      <td>123373</td>\n",
       "      <td>NaN</td>\n",
       "      <td>21</td>\n",
       "      <td>5.0</td>\n",
       "      <td>dd/e</td>\n",
       "      <td>NaN</td>\n",
       "      <td>NaN</td>\n",
       "      <td>new</td>\n",
       "      <td>NaN</td>\n",
       "      <td>NaN</td>\n",
       "      <td>alexmeyer626</td>\n",
       "      <td>just right</td>\n",
       "      <td>fit</td>\n",
       "      <td>875643</td>\n",
       "      <td>NaN</td>\n",
       "      <td>NaN</td>\n",
       "      <td>NaN</td>\n",
       "      <td>NaN</td>\n",
       "    </tr>\n",
       "    <tr>\n",
       "      <th>4</th>\n",
       "      <td>123373</td>\n",
       "      <td>NaN</td>\n",
       "      <td>18</td>\n",
       "      <td>5.0</td>\n",
       "      <td>b</td>\n",
       "      <td>NaN</td>\n",
       "      <td>36.0</td>\n",
       "      <td>new</td>\n",
       "      <td>NaN</td>\n",
       "      <td>5.2</td>\n",
       "      <td>dberrones1</td>\n",
       "      <td>slightly long</td>\n",
       "      <td>small</td>\n",
       "      <td>944840</td>\n",
       "      <td>NaN</td>\n",
       "      <td>NaN</td>\n",
       "      <td>NaN</td>\n",
       "      <td>NaN</td>\n",
       "    </tr>\n",
       "  </tbody>\n",
       "</table>\n",
       "</div>"
      ],
      "text/plain": [
       "  item_id  waist  size  quality cup_size  hips  bra_size category  bust  \\\n",
       "0  123373   29.0     7      5.0        d  38.0      34.0      new  36.0   \n",
       "1  123373   31.0    13      3.0        b  30.0      36.0      new   NaN   \n",
       "2  123373   30.0     7      2.0        b   NaN      32.0      new   NaN   \n",
       "3  123373    NaN    21      5.0     dd/e   NaN       NaN      new   NaN   \n",
       "4  123373    NaN    18      5.0        b   NaN      36.0      new   NaN   \n",
       "\n",
       "   height         user_name         length    fit user_id  shoe_size  \\\n",
       "0     5.6             Emily     just right  small  991571        NaN   \n",
       "1     5.2  sydneybraden2001     just right  small  587883        NaN   \n",
       "2     5.7             Ugggh  slightly long  small  395665        9.0   \n",
       "3     NaN      alexmeyer626     just right    fit  875643        NaN   \n",
       "4     5.2        dberrones1  slightly long  small  944840        NaN   \n",
       "\n",
       "  shoe_width review_summary review_text  \n",
       "0        NaN            NaN         NaN  \n",
       "1        NaN            NaN         NaN  \n",
       "2        NaN            NaN         NaN  \n",
       "3        NaN            NaN         NaN  \n",
       "4        NaN            NaN         NaN  "
      ]
     },
     "execution_count": 12,
     "metadata": {},
     "output_type": "execute_result"
    }
   ],
   "source": [
    "df1.head()"
   ]
  },
  {
   "cell_type": "code",
   "execution_count": 13,
   "id": "1fd9c8c1",
   "metadata": {},
   "outputs": [
    {
     "data": {
      "text/html": [
       "<div>\n",
       "<style scoped>\n",
       "    .dataframe tbody tr th:only-of-type {\n",
       "        vertical-align: middle;\n",
       "    }\n",
       "\n",
       "    .dataframe tbody tr th {\n",
       "        vertical-align: top;\n",
       "    }\n",
       "\n",
       "    .dataframe thead th {\n",
       "        text-align: right;\n",
       "    }\n",
       "</style>\n",
       "<table border=\"1\" class=\"dataframe\">\n",
       "  <thead>\n",
       "    <tr style=\"text-align: right;\">\n",
       "      <th></th>\n",
       "      <th>Total</th>\n",
       "      <th>Percentage of Missing Values</th>\n",
       "    </tr>\n",
       "  </thead>\n",
       "  <tbody>\n",
       "    <tr>\n",
       "      <th>waist</th>\n",
       "      <td>79908</td>\n",
       "      <td>96.518903</td>\n",
       "    </tr>\n",
       "    <tr>\n",
       "      <th>bust</th>\n",
       "      <td>70937</td>\n",
       "      <td>85.683054</td>\n",
       "    </tr>\n",
       "    <tr>\n",
       "      <th>shoe_width</th>\n",
       "      <td>64183</td>\n",
       "      <td>77.525063</td>\n",
       "    </tr>\n",
       "    <tr>\n",
       "      <th>shoe_size</th>\n",
       "      <td>54875</td>\n",
       "      <td>66.282160</td>\n",
       "    </tr>\n",
       "    <tr>\n",
       "      <th>hips</th>\n",
       "      <td>26726</td>\n",
       "      <td>32.281677</td>\n",
       "    </tr>\n",
       "    <tr>\n",
       "      <th>review_text</th>\n",
       "      <td>6725</td>\n",
       "      <td>8.122962</td>\n",
       "    </tr>\n",
       "    <tr>\n",
       "      <th>review_summary</th>\n",
       "      <td>6725</td>\n",
       "      <td>8.122962</td>\n",
       "    </tr>\n",
       "    <tr>\n",
       "      <th>cup_size</th>\n",
       "      <td>6255</td>\n",
       "      <td>7.555260</td>\n",
       "    </tr>\n",
       "    <tr>\n",
       "      <th>bra_size</th>\n",
       "      <td>6018</td>\n",
       "      <td>7.268994</td>\n",
       "    </tr>\n",
       "    <tr>\n",
       "      <th>height</th>\n",
       "      <td>4005</td>\n",
       "      <td>4.837541</td>\n",
       "    </tr>\n",
       "    <tr>\n",
       "      <th>quality</th>\n",
       "      <td>68</td>\n",
       "      <td>0.082136</td>\n",
       "    </tr>\n",
       "    <tr>\n",
       "      <th>length</th>\n",
       "      <td>35</td>\n",
       "      <td>0.042276</td>\n",
       "    </tr>\n",
       "    <tr>\n",
       "      <th>user_name</th>\n",
       "      <td>0</td>\n",
       "      <td>0.000000</td>\n",
       "    </tr>\n",
       "    <tr>\n",
       "      <th>fit</th>\n",
       "      <td>0</td>\n",
       "      <td>0.000000</td>\n",
       "    </tr>\n",
       "    <tr>\n",
       "      <th>user_id</th>\n",
       "      <td>0</td>\n",
       "      <td>0.000000</td>\n",
       "    </tr>\n",
       "    <tr>\n",
       "      <th>category</th>\n",
       "      <td>0</td>\n",
       "      <td>0.000000</td>\n",
       "    </tr>\n",
       "    <tr>\n",
       "      <th>size</th>\n",
       "      <td>0</td>\n",
       "      <td>0.000000</td>\n",
       "    </tr>\n",
       "    <tr>\n",
       "      <th>item_id</th>\n",
       "      <td>0</td>\n",
       "      <td>0.000000</td>\n",
       "    </tr>\n",
       "  </tbody>\n",
       "</table>\n",
       "</div>"
      ],
      "text/plain": [
       "                Total  Percentage of Missing Values\n",
       "waist           79908                     96.518903\n",
       "bust            70937                     85.683054\n",
       "shoe_width      64183                     77.525063\n",
       "shoe_size       54875                     66.282160\n",
       "hips            26726                     32.281677\n",
       "review_text      6725                      8.122962\n",
       "review_summary   6725                      8.122962\n",
       "cup_size         6255                      7.555260\n",
       "bra_size         6018                      7.268994\n",
       "height           4005                      4.837541\n",
       "quality            68                      0.082136\n",
       "length             35                      0.042276\n",
       "user_name           0                      0.000000\n",
       "fit                 0                      0.000000\n",
       "user_id             0                      0.000000\n",
       "category            0                      0.000000\n",
       "size                0                      0.000000\n",
       "item_id             0                      0.000000"
      ]
     },
     "execution_count": 13,
     "metadata": {},
     "output_type": "execute_result"
    }
   ],
   "source": [
    "Total = df1.isnull().sum().sort_values(ascending=False) \n",
    "Percent = (df1.isnull().sum()*100/df1.isnull().count()).sort_values(ascending=False)\n",
    "missing_data = pd.concat([Total, Percent], axis = 1, keys = ['Total', 'Percentage of Missing Values'])    \n",
    "missing_data"
   ]
  },
  {
   "cell_type": "markdown",
   "id": "78b94b07",
   "metadata": {},
   "source": [
    "4.2 check the Mean and Median."
   ]
  },
  {
   "cell_type": "code",
   "execution_count": 14,
   "id": "dbd2fca2",
   "metadata": {},
   "outputs": [
    {
     "data": {
      "text/html": [
       "<div>\n",
       "<style scoped>\n",
       "    .dataframe tbody tr th:only-of-type {\n",
       "        vertical-align: middle;\n",
       "    }\n",
       "\n",
       "    .dataframe tbody tr th {\n",
       "        vertical-align: top;\n",
       "    }\n",
       "\n",
       "    .dataframe thead th {\n",
       "        text-align: right;\n",
       "    }\n",
       "</style>\n",
       "<table border=\"1\" class=\"dataframe\">\n",
       "  <thead>\n",
       "    <tr style=\"text-align: right;\">\n",
       "      <th></th>\n",
       "      <th>count</th>\n",
       "      <th>mean</th>\n",
       "      <th>std</th>\n",
       "      <th>min</th>\n",
       "      <th>25%</th>\n",
       "      <th>50%</th>\n",
       "      <th>75%</th>\n",
       "      <th>max</th>\n",
       "    </tr>\n",
       "  </thead>\n",
       "  <tbody>\n",
       "    <tr>\n",
       "      <th>waist</th>\n",
       "      <td>2882.0</td>\n",
       "      <td>31.319223</td>\n",
       "      <td>5.302849</td>\n",
       "      <td>20.00</td>\n",
       "      <td>28.0</td>\n",
       "      <td>30.0</td>\n",
       "      <td>34.0</td>\n",
       "      <td>50.0</td>\n",
       "    </tr>\n",
       "    <tr>\n",
       "      <th>size</th>\n",
       "      <td>82790.0</td>\n",
       "      <td>12.661602</td>\n",
       "      <td>8.271952</td>\n",
       "      <td>0.00</td>\n",
       "      <td>8.0</td>\n",
       "      <td>12.0</td>\n",
       "      <td>15.0</td>\n",
       "      <td>38.0</td>\n",
       "    </tr>\n",
       "    <tr>\n",
       "      <th>quality</th>\n",
       "      <td>82722.0</td>\n",
       "      <td>3.949058</td>\n",
       "      <td>0.992783</td>\n",
       "      <td>1.00</td>\n",
       "      <td>3.0</td>\n",
       "      <td>4.0</td>\n",
       "      <td>5.0</td>\n",
       "      <td>5.0</td>\n",
       "    </tr>\n",
       "    <tr>\n",
       "      <th>hips</th>\n",
       "      <td>56064.0</td>\n",
       "      <td>40.358501</td>\n",
       "      <td>5.827166</td>\n",
       "      <td>30.00</td>\n",
       "      <td>36.0</td>\n",
       "      <td>39.0</td>\n",
       "      <td>43.0</td>\n",
       "      <td>60.0</td>\n",
       "    </tr>\n",
       "    <tr>\n",
       "      <th>bra_size</th>\n",
       "      <td>76772.0</td>\n",
       "      <td>35.972125</td>\n",
       "      <td>3.224907</td>\n",
       "      <td>28.00</td>\n",
       "      <td>34.0</td>\n",
       "      <td>36.0</td>\n",
       "      <td>38.0</td>\n",
       "      <td>48.0</td>\n",
       "    </tr>\n",
       "    <tr>\n",
       "      <th>bust</th>\n",
       "      <td>11853.0</td>\n",
       "      <td>37.499199</td>\n",
       "      <td>4.635310</td>\n",
       "      <td>20.00</td>\n",
       "      <td>34.0</td>\n",
       "      <td>36.0</td>\n",
       "      <td>40.0</td>\n",
       "      <td>59.0</td>\n",
       "    </tr>\n",
       "    <tr>\n",
       "      <th>height</th>\n",
       "      <td>78785.0</td>\n",
       "      <td>5.465562</td>\n",
       "      <td>0.281833</td>\n",
       "      <td>3.11</td>\n",
       "      <td>5.3</td>\n",
       "      <td>5.5</td>\n",
       "      <td>5.7</td>\n",
       "      <td>7.7</td>\n",
       "    </tr>\n",
       "    <tr>\n",
       "      <th>shoe_size</th>\n",
       "      <td>27915.0</td>\n",
       "      <td>8.145818</td>\n",
       "      <td>1.336109</td>\n",
       "      <td>5.00</td>\n",
       "      <td>7.0</td>\n",
       "      <td>8.0</td>\n",
       "      <td>9.0</td>\n",
       "      <td>38.0</td>\n",
       "    </tr>\n",
       "  </tbody>\n",
       "</table>\n",
       "</div>"
      ],
      "text/plain": [
       "             count       mean       std    min   25%   50%   75%   max\n",
       "waist       2882.0  31.319223  5.302849  20.00  28.0  30.0  34.0  50.0\n",
       "size       82790.0  12.661602  8.271952   0.00   8.0  12.0  15.0  38.0\n",
       "quality    82722.0   3.949058  0.992783   1.00   3.0   4.0   5.0   5.0\n",
       "hips       56064.0  40.358501  5.827166  30.00  36.0  39.0  43.0  60.0\n",
       "bra_size   76772.0  35.972125  3.224907  28.00  34.0  36.0  38.0  48.0\n",
       "bust       11853.0  37.499199  4.635310  20.00  34.0  36.0  40.0  59.0\n",
       "height     78785.0   5.465562  0.281833   3.11   5.3   5.5   5.7   7.7\n",
       "shoe_size  27915.0   8.145818  1.336109   5.00   7.0   8.0   9.0  38.0"
      ]
     },
     "execution_count": 14,
     "metadata": {},
     "output_type": "execute_result"
    }
   ],
   "source": [
    "df1.describe().T"
   ]
  },
  {
   "cell_type": "code",
   "execution_count": 15,
   "id": "53f81d3a",
   "metadata": {},
   "outputs": [
    {
     "name": "stderr",
     "output_type": "stream",
     "text": [
      "/opt/anaconda3/lib/python3.9/site-packages/numpy/core/fromnumeric.py:3438: FutureWarning: In a future version, DataFrame.mean(axis=None) will return a scalar mean over the entire DataFrame. To retain the old behavior, use 'frame.mean(axis=0)' or just 'frame.mean()'\n",
      "  return mean(axis=axis, dtype=dtype, out=out, **kwargs)\n",
      "/opt/anaconda3/lib/python3.9/site-packages/numpy/core/fromnumeric.py:3438: FutureWarning: Dropping of nuisance columns in DataFrame reductions (with 'numeric_only=None') is deprecated; in a future version this will raise TypeError.  Select only valid columns before calling the reduction.\n",
      "  return mean(axis=axis, dtype=dtype, out=out, **kwargs)\n"
     ]
    },
    {
     "data": {
      "text/plain": [
       "item_id      469325.229170\n",
       "waist            31.319223\n",
       "size             12.661602\n",
       "quality           3.949058\n",
       "hips             40.358501\n",
       "bra_size         35.972125\n",
       "bust             37.499199\n",
       "height            5.465562\n",
       "user_id      498849.564718\n",
       "shoe_size         8.145818\n",
       "dtype: float64"
      ]
     },
     "execution_count": 15,
     "metadata": {},
     "output_type": "execute_result"
    }
   ],
   "source": [
    "np.mean(df1)"
   ]
  },
  {
   "cell_type": "code",
   "execution_count": 16,
   "id": "ced12dd8",
   "metadata": {},
   "outputs": [
    {
     "name": "stderr",
     "output_type": "stream",
     "text": [
      "/var/folders/tk/sl08nd_141lbs3dnb5c22yvc0000gn/T/ipykernel_30252/2279417019.py:1: FutureWarning: Dropping of nuisance columns in DataFrame reductions (with 'numeric_only=None') is deprecated; in a future version this will raise TypeError.  Select only valid columns before calling the reduction.\n",
      "  df1.median()\n"
     ]
    },
    {
     "data": {
      "text/plain": [
       "item_id      454030.0\n",
       "waist            30.0\n",
       "size             12.0\n",
       "quality           4.0\n",
       "hips             39.0\n",
       "bra_size         36.0\n",
       "bust             36.0\n",
       "height            5.5\n",
       "user_id      497913.5\n",
       "shoe_size         8.0\n",
       "dtype: float64"
      ]
     },
     "execution_count": 16,
     "metadata": {},
     "output_type": "execute_result"
    }
   ],
   "source": [
    "df1.median()"
   ]
  },
  {
   "cell_type": "markdown",
   "id": "23b4b619",
   "metadata": {},
   "source": [
    "4.3 Check the distribution of the variables using Histogram or Dist plot or KDE and boxplot etc.\n",
    "Kindly explore at least two."
   ]
  },
  {
   "cell_type": "code",
   "execution_count": 17,
   "id": "158b1de8",
   "metadata": {},
   "outputs": [
    {
     "data": {
      "image/png": "[encoded data removed]",
      "text/plain": [
       "<Figure size 1080x576 with 9 Axes>"
      ]
     },
     "metadata": {
      "needs_background": "light"
     },
     "output_type": "display_data"
    }
   ],
   "source": [
    "df1.hist(bins = 20, figsize = (15,8))\n",
    "\n",
    "# adjust the subplots\n",
    "plt.tight_layout()\n",
    "\n",
    "# display the plot\n",
    "plt.show()"
   ]
  },
  {
   "cell_type": "code",
   "execution_count": 18,
   "id": "a61fe569",
   "metadata": {},
   "outputs": [
    {
     "data": {
      "image/png": "[encoded data removed]",
      "text/plain": [
       "<Figure size 1080x576 with 1 Axes>"
      ]
     },
     "metadata": {
      "needs_background": "light"
     },
     "output_type": "display_data"
    }
   ],
   "source": [
    "df1.boxplot(figsize = (15,8))\n",
    "\n",
    "# adjust the subplots\n",
    "plt.tight_layout()\n",
    "\n",
    "# display the plot\n",
    "plt.show()"
   ]
  },
  {
   "cell_type": "markdown",
   "id": "c25622f1",
   "metadata": {},
   "source": [
    "4.4 Check the Skewness and Kurtosis.\n"
   ]
  },
  {
   "cell_type": "markdown",
   "id": "42170b37",
   "metadata": {},
   "source": [
    "Explain what the Skewness and Kurtosis describe."
   ]
  },
  {
   "cell_type": "code",
   "execution_count": 19,
   "id": "81180c37",
   "metadata": {},
   "outputs": [],
   "source": [
    "### Skewness: Skewness ia a measure of asymmetry of a distribution. A distribution is asymmetrical when its left and right side are not mirror images.\n",
    "           ## A distribution can have right or left or zero skewness.\n",
    "### Kurtosis: Kurtosis is a measure of the tailedness of a distribution. Tailedness is how often outliers occur. \n",
    "            ## Excess kurtosis is the tailedness of a distribution relative to a normal distribution.\n",
    "            ## Distribution with medium kurtosis are mesokurtic\n",
    "            ## Distribution with low kurtosis are platykurtic"
   ]
  },
  {
   "cell_type": "code",
   "execution_count": 19,
   "id": "f2885cfc",
   "metadata": {},
   "outputs": [
    {
     "name": "stderr",
     "output_type": "stream",
     "text": [
      "/var/folders/tk/sl08nd_141lbs3dnb5c22yvc0000gn/T/ipykernel_30252/149261804.py:1: FutureWarning: Dropping of nuisance columns in DataFrame reductions (with 'numeric_only=None') is deprecated; in a future version this will raise TypeError.  Select only valid columns before calling the reduction.\n",
      "  df1.skew()\n"
     ]
    },
    {
     "data": {
      "text/plain": [
       "item_id     -0.120644\n",
       "waist        0.993061\n",
       "size         1.128301\n",
       "quality     -0.676777\n",
       "hips         0.969187\n",
       "bra_size     0.901004\n",
       "bust         0.951904\n",
       "height      -1.176524\n",
       "user_id      0.008201\n",
       "shoe_size    0.436713\n",
       "dtype: float64"
      ]
     },
     "execution_count": 19,
     "metadata": {},
     "output_type": "execute_result"
    }
   ],
   "source": [
    "df1.skew()"
   ]
  },
  {
   "cell_type": "code",
   "execution_count": 20,
   "id": "c2c015e6",
   "metadata": {},
   "outputs": [
    {
     "name": "stderr",
     "output_type": "stream",
     "text": [
      "/var/folders/tk/sl08nd_141lbs3dnb5c22yvc0000gn/T/ipykernel_30252/3614614862.py:1: FutureWarning: Dropping of nuisance columns in DataFrame reductions (with 'numeric_only=None') is deprecated; in a future version this will raise TypeError.  Select only valid columns before calling the reduction.\n",
      "  df1.kurtosis()\n"
     ]
    },
    {
     "data": {
      "text/plain": [
       "item_id     -1.215909\n",
       "waist        0.836624\n",
       "size         0.760010\n",
       "quality     -0.167085\n",
       "hips         0.848464\n",
       "bra_size     1.039445\n",
       "bust         1.207346\n",
       "height       5.745281\n",
       "user_id     -1.182436\n",
       "shoe_size    8.448820\n",
       "dtype: float64"
      ]
     },
     "execution_count": 20,
     "metadata": {},
     "output_type": "execute_result"
    }
   ],
   "source": [
    "df1.kurtosis()"
   ]
  },
  {
   "cell_type": "markdown",
   "id": "43186b90",
   "metadata": {},
   "source": [
    "4.5 Based on the above approach impute the missing values with the right\n",
    "metric. Or If you want to get some analysis before imputing missing values\n",
    "feel free to explore the analysis."
   ]
  },
  {
   "cell_type": "code",
   "execution_count": 21,
   "id": "6f8ea8bf",
   "metadata": {},
   "outputs": [],
   "source": [
    "df1['waist'] = df1['waist'].fillna(df1['waist'].median())\n",
    "df1['size'] = df1['size'].fillna(df1['size'].median())\n",
    "df1['hips'] = df1['hips'].fillna(df1['hips'].median())\n",
    "df1['quality'] = df1['quality'].fillna(df1['quality'].mode())\n",
    "df1['bra_size'] = df1['bra_size'].fillna(df1['bra_size'].median())\n",
    "df1['height'] = df1['height'].fillna(df1['height'].median())\n",
    "df1['shoe_size'] = df1['shoe_size'].fillna(df1['shoe_size'].median())\n",
    "df1['bust'] = df1['bust'].fillna(df1['bust'].median())\n",
    "\n",
    "freq = df1['shoe_width'].value_counts()\n",
    "df1['shoe_width'].replace({np.nan:freq.index[0]},inplace=True)\n",
    "freq = df1['length'].value_counts()\n",
    "df1['length'].replace({np.nan:freq.index[0]},inplace=True)\n",
    "freq = df1['review_summary'].value_counts()\n",
    "df1['review_summary'].replace({np.nan:freq.index[0]},inplace=True)\n",
    "freq = df1['review_text'].value_counts()\n",
    "df1['review_text'].replace({np.nan:freq.index[0]},inplace=True)\n",
    "freq = df1['cup_size'].value_counts()\n",
    "df1['cup_size'].replace({np.nan:freq.index[0]},inplace=True)\n",
    "freq = df1['cup_size'].value_counts()\n",
    "df1['cup_size'].replace({np.nan:freq.index[0]},inplace=True)\n",
    "freq = df1['quality'].value_counts()\n",
    "df1['quality'].replace({np.nan:freq.index[0]},inplace=True)"
   ]
  },
  {
   "cell_type": "code",
   "execution_count": 22,
   "id": "0aed7ee5",
   "metadata": {},
   "outputs": [
    {
     "data": {
      "text/plain": [
       "5.0    29604\n",
       "4.0    27118\n",
       "3.0    19526\n",
       "2.0     5130\n",
       "1.0     1344\n",
       "Name: quality, dtype: int64"
      ]
     },
     "execution_count": 22,
     "metadata": {},
     "output_type": "execute_result"
    }
   ],
   "source": [
    "df['quality'].value_counts()"
   ]
  },
  {
   "cell_type": "code",
   "execution_count": 23,
   "id": "443591f8",
   "metadata": {},
   "outputs": [
    {
     "data": {
      "image/png": "[encoded data removed]",
      "text/plain": [
       "<Figure size 1080x576 with 9 Axes>"
      ]
     },
     "metadata": {
      "needs_background": "light"
     },
     "output_type": "display_data"
    }
   ],
   "source": [
    "df1.hist(bins = 20, figsize = (15,8))\n",
    "\n",
    "# adjust the subplots\n",
    "plt.tight_layout()\n",
    "\n",
    "# display the plot\n",
    "plt.show()"
   ]
  },
  {
   "cell_type": "code",
   "execution_count": 24,
   "id": "3fd2e3eb",
   "metadata": {},
   "outputs": [
    {
     "data": {
      "text/html": [
       "<div>\n",
       "<style scoped>\n",
       "    .dataframe tbody tr th:only-of-type {\n",
       "        vertical-align: middle;\n",
       "    }\n",
       "\n",
       "    .dataframe tbody tr th {\n",
       "        vertical-align: top;\n",
       "    }\n",
       "\n",
       "    .dataframe thead th {\n",
       "        text-align: right;\n",
       "    }\n",
       "</style>\n",
       "<table border=\"1\" class=\"dataframe\">\n",
       "  <thead>\n",
       "    <tr style=\"text-align: right;\">\n",
       "      <th></th>\n",
       "      <th>Total</th>\n",
       "      <th>Percentage of Missing Values</th>\n",
       "    </tr>\n",
       "  </thead>\n",
       "  <tbody>\n",
       "    <tr>\n",
       "      <th>item_id</th>\n",
       "      <td>0</td>\n",
       "      <td>0.0</td>\n",
       "    </tr>\n",
       "    <tr>\n",
       "      <th>waist</th>\n",
       "      <td>0</td>\n",
       "      <td>0.0</td>\n",
       "    </tr>\n",
       "    <tr>\n",
       "      <th>review_summary</th>\n",
       "      <td>0</td>\n",
       "      <td>0.0</td>\n",
       "    </tr>\n",
       "    <tr>\n",
       "      <th>shoe_width</th>\n",
       "      <td>0</td>\n",
       "      <td>0.0</td>\n",
       "    </tr>\n",
       "    <tr>\n",
       "      <th>shoe_size</th>\n",
       "      <td>0</td>\n",
       "      <td>0.0</td>\n",
       "    </tr>\n",
       "    <tr>\n",
       "      <th>user_id</th>\n",
       "      <td>0</td>\n",
       "      <td>0.0</td>\n",
       "    </tr>\n",
       "    <tr>\n",
       "      <th>fit</th>\n",
       "      <td>0</td>\n",
       "      <td>0.0</td>\n",
       "    </tr>\n",
       "    <tr>\n",
       "      <th>length</th>\n",
       "      <td>0</td>\n",
       "      <td>0.0</td>\n",
       "    </tr>\n",
       "    <tr>\n",
       "      <th>user_name</th>\n",
       "      <td>0</td>\n",
       "      <td>0.0</td>\n",
       "    </tr>\n",
       "    <tr>\n",
       "      <th>height</th>\n",
       "      <td>0</td>\n",
       "      <td>0.0</td>\n",
       "    </tr>\n",
       "    <tr>\n",
       "      <th>bust</th>\n",
       "      <td>0</td>\n",
       "      <td>0.0</td>\n",
       "    </tr>\n",
       "    <tr>\n",
       "      <th>category</th>\n",
       "      <td>0</td>\n",
       "      <td>0.0</td>\n",
       "    </tr>\n",
       "    <tr>\n",
       "      <th>bra_size</th>\n",
       "      <td>0</td>\n",
       "      <td>0.0</td>\n",
       "    </tr>\n",
       "    <tr>\n",
       "      <th>hips</th>\n",
       "      <td>0</td>\n",
       "      <td>0.0</td>\n",
       "    </tr>\n",
       "    <tr>\n",
       "      <th>cup_size</th>\n",
       "      <td>0</td>\n",
       "      <td>0.0</td>\n",
       "    </tr>\n",
       "    <tr>\n",
       "      <th>quality</th>\n",
       "      <td>0</td>\n",
       "      <td>0.0</td>\n",
       "    </tr>\n",
       "    <tr>\n",
       "      <th>size</th>\n",
       "      <td>0</td>\n",
       "      <td>0.0</td>\n",
       "    </tr>\n",
       "    <tr>\n",
       "      <th>review_text</th>\n",
       "      <td>0</td>\n",
       "      <td>0.0</td>\n",
       "    </tr>\n",
       "  </tbody>\n",
       "</table>\n",
       "</div>"
      ],
      "text/plain": [
       "                Total  Percentage of Missing Values\n",
       "item_id             0                           0.0\n",
       "waist               0                           0.0\n",
       "review_summary      0                           0.0\n",
       "shoe_width          0                           0.0\n",
       "shoe_size           0                           0.0\n",
       "user_id             0                           0.0\n",
       "fit                 0                           0.0\n",
       "length              0                           0.0\n",
       "user_name           0                           0.0\n",
       "height              0                           0.0\n",
       "bust                0                           0.0\n",
       "category            0                           0.0\n",
       "bra_size            0                           0.0\n",
       "hips                0                           0.0\n",
       "cup_size            0                           0.0\n",
       "quality             0                           0.0\n",
       "size                0                           0.0\n",
       "review_text         0                           0.0"
      ]
     },
     "execution_count": 24,
     "metadata": {},
     "output_type": "execute_result"
    }
   ],
   "source": [
    "Total = df1.isnull().sum().sort_values(ascending=False) \n",
    "Percent = (df1.isnull().sum()*100/df1.isnull().count()).sort_values(ascending=False)\n",
    "missing_data = pd.concat([Total, Percent], axis = 1, keys = ['Total', 'Percentage of Missing Values'])    \n",
    "missing_data"
   ]
  },
  {
   "cell_type": "markdown",
   "id": "ce395c7d",
   "metadata": {},
   "source": [
    "5. Find the outliers which are below and above 2.5 * IQR - Q1 and 2.5 * IQR + Q3."
   ]
  },
  {
   "cell_type": "code",
   "execution_count": 25,
   "id": "ac1fab80",
   "metadata": {},
   "outputs": [
    {
     "name": "stderr",
     "output_type": "stream",
     "text": [
      "/var/folders/tk/sl08nd_141lbs3dnb5c22yvc0000gn/T/ipykernel_30252/962604707.py:12: FutureWarning: Automatic reindexing on DataFrame vs Series comparisons is deprecated and will raise ValueError in a future version. Do `left, right = left.align(right, axis=1, copy=False)` before e.g. `left == right`\n",
      "  df1 = df1[~((df1 < (Q1 - 2.5 * IQR)) | (df1 > (Q3 + 2.5 * IQR)))]\n"
     ]
    }
   ],
   "source": [
    "\n",
    "# calculate the first quartile\n",
    "Q1 = df1.quantile(0.25)\n",
    "\n",
    "#calculate the third quartile\n",
    "Q3 = df1.quantile(0.75)\n",
    "\n",
    "# The Interquartile Range (IQR) is defined as difference between the third and first quartile\n",
    "# calculate IQR\n",
    "IQR = Q3 - Q1\n",
    "\n",
    "# remove the outliers from the variable\n",
    "df1 = df1[~((df1 < (Q1 - 2.5 * IQR)) | (df1 > (Q3 + 2.5 * IQR)))]\n",
    "\n"
   ]
  },
  {
   "cell_type": "code",
   "execution_count": 26,
   "id": "3b10e5fc",
   "metadata": {},
   "outputs": [
    {
     "name": "stdout",
     "output_type": "stream",
     "text": [
      "<class 'pandas.core.frame.DataFrame'>\n",
      "RangeIndex: 82790 entries, 0 to 82789\n",
      "Data columns (total 18 columns):\n",
      " #   Column          Non-Null Count  Dtype  \n",
      "---  ------          --------------  -----  \n",
      " 0   item_id         82790 non-null  object \n",
      " 1   waist           80145 non-null  float64\n",
      " 2   size            81283 non-null  float64\n",
      " 3   quality         82790 non-null  float64\n",
      " 4   cup_size        82790 non-null  object \n",
      " 5   hips            76261 non-null  float64\n",
      " 6   bra_size        82790 non-null  float64\n",
      " 7   category        82790 non-null  object \n",
      " 8   bust            72992 non-null  float64\n",
      " 9   height          81741 non-null  float64\n",
      " 10  user_name       82790 non-null  object \n",
      " 11  length          82790 non-null  object \n",
      " 12  fit             82790 non-null  object \n",
      " 13  user_id         82790 non-null  object \n",
      " 14  shoe_size       58707 non-null  float64\n",
      " 15  shoe_width      82790 non-null  object \n",
      " 16  review_summary  82790 non-null  object \n",
      " 17  review_text     82790 non-null  object \n",
      "dtypes: float64(8), object(10)\n",
      "memory usage: 11.4+ MB\n"
     ]
    }
   ],
   "source": [
    "df1.info()"
   ]
  },
  {
   "cell_type": "markdown",
   "id": "b211e52b",
   "metadata": {},
   "source": [
    "6.Check for the category dress review and visualize the top 10 reviews using any\n",
    "relevant plot. Identify the negative reviews if there are any."
   ]
  },
  {
   "cell_type": "code",
   "execution_count": 27,
   "id": "a0f04c7d",
   "metadata": {},
   "outputs": [
    {
     "data": {
      "image/png": "[encoded data removed]",
      "text/plain": [
       "<Figure size 432x288 with 1 Axes>"
      ]
     },
     "metadata": {
      "needs_background": "light"
     },
     "output_type": "display_data"
    }
   ],
   "source": [
    "\n",
    "# filter the dataframe to only include reviews in the dress category\n",
    "dress_category= df1[df1['category'] == 'dresses']\n",
    "\n",
    "# group the filtered dataframe by review text and count the number of occurrences\n",
    "review_counts = dress_category.groupby('review_text').size().reset_index(name='Count')\n",
    "\n",
    "# sort the grouped dataframe in descending order of occurrence count\n",
    "review_counts = review_counts.sort_values('Count', ascending=False)\n",
    "\n",
    "# select the top 10 reviews\n",
    "top_reviews = review_counts.head(10)\n",
    "\n",
    "# plot the top 10 reviews using a bar chart\n",
    "plt.bar(top_reviews['review_text'], top_reviews['Count'])\n",
    "plt.xticks(rotation=90)\n",
    "plt.xlabel('Review Text')\n",
    "plt.ylabel('Count')\n",
    "plt.title('Top 10 Dress Reviews')\n",
    "plt.show()"
   ]
  },
  {
   "cell_type": "markdown",
   "id": "086a8f47",
   "metadata": {},
   "source": [
    "7. Find out the average shoe size for the different fits of the customer. Visualize using any relevant plot. Explain that, Is there any significant different shoe sizes for different fits?"
   ]
  },
  {
   "cell_type": "code",
   "execution_count": 45,
   "id": "9f78a9fc",
   "metadata": {},
   "outputs": [
    {
     "data": {
      "image/png": "[encoded data removed]",
      "text/plain": [
       "<Figure size 1080x576 with 1 Axes>"
      ]
     },
     "metadata": {
      "needs_background": "light"
     },
     "output_type": "display_data"
    }
   ],
   "source": [
    "\n",
    "df1.boxplot(column='shoe_size', by='fit')\n",
    "plt.xlabel('Fit Type')\n",
    "plt.ylabel('Shoe Size')\n",
    "plt.title('Distribution of Shoe Sizes by Fit Type')\n",
    "plt.show()"
   ]
  },
  {
   "cell_type": "code",
   "execution_count": 44,
   "id": "559ec83c",
   "metadata": {},
   "outputs": [],
   "source": [
    "plt.rcParams['figure.figsize'] = [15,8]"
   ]
  },
  {
   "cell_type": "markdown",
   "id": "49226105",
   "metadata": {},
   "source": [
    "This boxplot would allow you to compare the distribution of shoe sizes across different fit types and see if there are any significant differences. From the above boxplot there is not significant difference\n"
   ]
  },
  {
   "cell_type": "markdown",
   "id": "b93becdf",
   "metadata": {},
   "source": [
    "8. Identify the customer’s common shoe width and average size for those who \n",
    "purchased the maximum quality. Is the mode of shoe width affect the user review?\n",
    "Visualize using the appropriate plot."
   ]
  },
  {
   "cell_type": "code",
   "execution_count": 30,
   "id": "2dd9669f",
   "metadata": {},
   "outputs": [
    {
     "name": "stdout",
     "output_type": "stream",
     "text": [
      "Mode of Shoe Width for Maximum Quality:  average\n",
      "Mean of Shoe Size for Maximum Quality:  8.0\n"
     ]
    },
    {
     "data": {
      "image/png": "[encoded data removed]",
      "text/plain": [
       "<Figure size 432x288 with 1 Axes>"
      ]
     },
     "metadata": {
      "needs_background": "light"
     },
     "output_type": "display_data"
    }
   ],
   "source": [
    "max_quality = df1[df1[\"quality\"] == df1[\"quality\"].max()]\n",
    "\n",
    "# calculate the mode and mean of shoe width and shoe size columns\n",
    "mode_shoe_width = max_quality[\"shoe_width\"].mode()[0]\n",
    "mean_shoe_size = max_quality[\"shoe_size\"].mean()\n",
    "\n",
    "print(\"Mode of Shoe Width for Maximum Quality: \", mode_shoe_width)\n",
    "print(\"Mean of Shoe Size for Maximum Quality: \", mean_shoe_size)\n",
    "\n",
    "# plot the distribution of shoe widths and the corresponding average shoe sizes\n",
    "fig, ax = plt.subplots()\n",
    "ax.set_title(\"Distribution of Shoe Widths for Maximum Quality\")\n",
    "ax.set_xlabel(\"Shoe Width\")\n",
    "ax.set_ylabel(\"Average Shoe Size\")\n",
    "max_quality.groupby([\"shoe_width\"])[\"shoe_size\"].mean().plot(kind=\"bar\", ax=ax)\n",
    "plt.show()"
   ]
  },
  {
   "cell_type": "code",
   "execution_count": 31,
   "id": "79d498af",
   "metadata": {},
   "outputs": [
    {
     "name": "stdout",
     "output_type": "stream",
     "text": [
      "There is no evidence of association between shoe width mode and user review\n"
     ]
    }
   ],
   "source": [
    "df2 = df1[df1[\"shoe_width\"] == \"average\"]\n",
    "contingency_table = pd.crosstab(df2['shoe_width'], df2['review_summary'])\n",
    "\n",
    "# perform chi-squared test\n",
    "chi2_stat, p_value, dof, expected_freq = chi2_contingency(contingency_table)\n",
    "\n",
    "# check p-value against alpha level (e.g. alpha = 0.01 or 0.05)\n",
    "alpha = 0.01\n",
    "if p_value < alpha:\n",
    "    print(\"There is evidence of association between shoe width mode and user review\")\n",
    "else:\n",
    "    print(\"There is no evidence of association between shoe width mode and user review\")"
   ]
  },
  {
   "cell_type": "markdown",
   "id": "b0d7e001",
   "metadata": {},
   "source": [
    "9. Extract the records belonging to the top 10 reviews, and then find the review \n",
    "summary for the different cup sizes. The basic analysis explains what you would try to \n",
    "infer. Try to use visualization."
   ]
  },
  {
   "cell_type": "code",
   "execution_count": 32,
   "id": "b1232f4e",
   "metadata": {},
   "outputs": [
    {
     "data": {
      "text/html": [
       "<div>\n",
       "<style scoped>\n",
       "    .dataframe tbody tr th:only-of-type {\n",
       "        vertical-align: middle;\n",
       "    }\n",
       "\n",
       "    .dataframe tbody tr th {\n",
       "        vertical-align: top;\n",
       "    }\n",
       "\n",
       "    .dataframe thead th {\n",
       "        text-align: right;\n",
       "    }\n",
       "</style>\n",
       "<table border=\"1\" class=\"dataframe\">\n",
       "  <thead>\n",
       "    <tr style=\"text-align: right;\">\n",
       "      <th></th>\n",
       "      <th>review_summary</th>\n",
       "      <th>Count</th>\n",
       "    </tr>\n",
       "  </thead>\n",
       "  <tbody>\n",
       "    <tr>\n",
       "      <th>30234</th>\n",
       "      <td>Love it!</td>\n",
       "      <td>6910</td>\n",
       "    </tr>\n",
       "    <tr>\n",
       "      <th>11679</th>\n",
       "      <td>I absolutely love this dr</td>\n",
       "      <td>124</td>\n",
       "    </tr>\n",
       "    <tr>\n",
       "      <th>22240</th>\n",
       "      <td>I really wanted to love t</td>\n",
       "      <td>92</td>\n",
       "    </tr>\n",
       "    <tr>\n",
       "      <th>30170</th>\n",
       "      <td>Love it</td>\n",
       "      <td>92</td>\n",
       "    </tr>\n",
       "    <tr>\n",
       "      <th>18576</th>\n",
       "      <td>I love this dress so much</td>\n",
       "      <td>84</td>\n",
       "    </tr>\n",
       "    <tr>\n",
       "      <th>51172</th>\n",
       "      <td>This is one of my favorit</td>\n",
       "      <td>83</td>\n",
       "    </tr>\n",
       "    <tr>\n",
       "      <th>45</th>\n",
       "      <td>.</td>\n",
       "      <td>76</td>\n",
       "    </tr>\n",
       "    <tr>\n",
       "      <th>14270</th>\n",
       "      <td>I get so many compliments</td>\n",
       "      <td>71</td>\n",
       "    </tr>\n",
       "    <tr>\n",
       "      <th>38712</th>\n",
       "      <td>Perfect!</td>\n",
       "      <td>69</td>\n",
       "    </tr>\n",
       "    <tr>\n",
       "      <th>16784</th>\n",
       "      <td>I love everything about t</td>\n",
       "      <td>63</td>\n",
       "    </tr>\n",
       "  </tbody>\n",
       "</table>\n",
       "</div>"
      ],
      "text/plain": [
       "                  review_summary  Count\n",
       "30234                   Love it!   6910\n",
       "11679  I absolutely love this dr    124\n",
       "22240  I really wanted to love t     92\n",
       "30170                    Love it     92\n",
       "18576  I love this dress so much     84\n",
       "51172  This is one of my favorit     83\n",
       "45                             .     76\n",
       "14270  I get so many compliments     71\n",
       "38712                   Perfect!     69\n",
       "16784  I love everything about t     63"
      ]
     },
     "execution_count": 32,
     "metadata": {},
     "output_type": "execute_result"
    }
   ],
   "source": [
    "review_counts = df1.groupby('review_summary').size().reset_index(name='Count')\n",
    "\n",
    "review_counts = review_counts.sort_values('Count', ascending=False)\n",
    "\n",
    "top_reviews = review_counts.head(10)\n",
    "top_reviews"
   ]
  },
  {
   "cell_type": "code",
   "execution_count": 33,
   "id": "5317a095",
   "metadata": {},
   "outputs": [],
   "source": [
    "top_10_summaries = df1['review_summary'].value_counts().nlargest(10).index.tolist()\n",
    "top_10_reviews = df1[df1['review_summary'].isin(top_10_summaries)]"
   ]
  },
  {
   "cell_type": "code",
   "execution_count": 46,
   "id": "e3f814f3",
   "metadata": {},
   "outputs": [
    {
     "data": {
      "image/png": "[encoded data removed]",
      "text/plain": [
       "<Figure size 1080x576 with 1 Axes>"
      ]
     },
     "metadata": {
      "needs_background": "light"
     },
     "output_type": "display_data"
    }
   ],
   "source": [
    "sns.countplot(x='cup_size', hue='review_summary', data=top_10_reviews)\n",
    "plt.title('Review Summary by Cup Size (Top 10 Reviews)')\n",
    "plt.show()"
   ]
  },
  {
   "cell_type": "markdown",
   "id": "db35f7fe",
   "metadata": {},
   "source": [
    "10. Identify the most common review that we got from the customer whose hips size \n",
    "is greater than 35. Find out what kind of inference you can make."
   ]
  },
  {
   "cell_type": "code",
   "execution_count": 35,
   "id": "33cccbd4",
   "metadata": {},
   "outputs": [
    {
     "name": "stdout",
     "output_type": "stream",
     "text": [
      "Most common review from customers with hip size > 35:\n",
      "Love it!\n"
     ]
    }
   ],
   "source": [
    "\n",
    "filtered_df = df1[df1['hips'] > 35]\n",
    "\n",
    "mode_review = filtered_df['review_text'].mode()[0]\n",
    "\n",
    "print('Most common review from customers with hip size > 35:')\n",
    "print(mode_review)"
   ]
  },
  {
   "cell_type": "markdown",
   "id": "df191388",
   "metadata": {},
   "source": [
    "11. What is the relationship between height and weight? Describe what kind of \n",
    "relationship it has."
   ]
  },
  {
   "cell_type": "code",
   "execution_count": null,
   "id": "5076545d",
   "metadata": {},
   "outputs": [],
   "source": [
    "## There was no column named weight in the given dataset"
   ]
  },
  {
   "cell_type": "markdown",
   "id": "ca601a61",
   "metadata": {},
   "source": [
    "12. Plot the pair plot for the numerical plot. Explain according to your problem \n",
    "statement how the pair plot would help you."
   ]
  },
  {
   "cell_type": "code",
   "execution_count": 36,
   "id": "b0b8f3f1",
   "metadata": {},
   "outputs": [
    {
     "data": {
      "text/plain": [
       "<seaborn.axisgrid.PairGrid at 0x7fcddab32250>"
      ]
     },
     "execution_count": 36,
     "metadata": {},
     "output_type": "execute_result"
    },
    {
     "data": {
      "image/png": "[encoded data removed]",
      "text/plain": [
       "<Figure size 1440x1440 with 72 Axes>"
      ]
     },
     "metadata": {
      "needs_background": "light"
     },
     "output_type": "display_data"
    }
   ],
   "source": [
    "num_vars = df1.select_dtypes(include=np.number)\n",
    "\n",
    "sns.pairplot(num_vars)"
   ]
  },
  {
   "cell_type": "markdown",
   "id": "b5b5125b",
   "metadata": {},
   "source": [
    "# Statistical Analysis:"
   ]
  },
  {
   "cell_type": "markdown",
   "id": "8bcfe49e",
   "metadata": {},
   "source": [
    "1. Test the claim that the category feature and review summary have any \n",
    "relationship among them. The level of significance is 5%"
   ]
  },
  {
   "cell_type": "code",
   "execution_count": 37,
   "id": "dba2b123",
   "metadata": {},
   "outputs": [
    {
     "name": "stdout",
     "output_type": "stream",
     "text": [
      "There is a significant relationship between category and review summary.\n"
     ]
    }
   ],
   "source": [
    "from scipy.stats import chi2_contingency\n",
    "from scipy.stats import chi2\n",
    "\n",
    "contingency_table = pd.crosstab(df1['category'], df1['review_summary'])\n",
    "expected_freq = chi2_contingency(contingency_table)[3]\n",
    "\n",
    "chi_squared = ((contingency_table - expected_freq)**2 / expected_freq).sum().sum()\n",
    "\n",
    "df = (len(contingency_table.index) - 1) * (len(contingency_table.columns) - 1)\n",
    "p_value = 1 - chi2.cdf(chi_squared, df)\n",
    "if p_value < 0.05:\n",
    "    print(\"There is a significant relationship between category and review summary.\")\n",
    "else:\n",
    "    print(\"There is no significant relationship between category and review summary.\")"
   ]
  },
  {
   "cell_type": "markdown",
   "id": "0e31a473",
   "metadata": {},
   "source": [
    "2. Test statistically whether the size and hips have any relationship using 0.05 \n",
    "alpha. Before the above test, Test the normality test"
   ]
  },
  {
   "cell_type": "code",
   "execution_count": 38,
   "id": "960bdbc7",
   "metadata": {},
   "outputs": [
    {
     "name": "stdout",
     "output_type": "stream",
     "text": [
      "There is a significant relationship between category and review summary.\n"
     ]
    }
   ],
   "source": [
    "contingency_table = pd.crosstab(df1['size'], df1['hips'])\n",
    "expected_freq = chi2_contingency(contingency_table)[3]\n",
    "\n",
    "chi_squared = ((contingency_table - expected_freq)**2 / expected_freq).sum().sum()\n",
    "\n",
    "df = (len(contingency_table.index) - 1) * (len(contingency_table.columns) - 1)\n",
    "p_value = 1 - chi2.cdf(chi_squared, df)\n",
    "if p_value < 0.05:\n",
    "    print(\"There is a significant relationship between category and review summary.\")\n",
    "else:\n",
    "    print(\"There is no significant relationship between category and review summary.\")"
   ]
  },
  {
   "cell_type": "markdown",
   "id": "9068eb64",
   "metadata": {},
   "source": [
    "3. Does the quality significantly differ for any one shoe width? Test the test with \n",
    "96%confidence intervals."
   ]
  },
  {
   "cell_type": "code",
   "execution_count": 47,
   "id": "3b9e3187",
   "metadata": {},
   "outputs": [
    {
     "name": "stdout",
     "output_type": "stream",
     "text": [
      "p-value:  0.09155344683413974\n"
     ]
    }
   ],
   "source": [
    "f_statistic,p_value = stats.f_oneway(df1[df1['shoe_width']=='average']['quality'], \n",
    "                         df1[df1['shoe_width']=='wide']['quality'], \n",
    "                         df1[df1['shoe_width']=='narrow']['quality'])\n",
    "print('p-value: ', p_value)"
   ]
  },
  {
   "cell_type": "markdown",
   "id": "61e5fdae",
   "metadata": {},
   "source": [
    "Since p-value is less than 0.04, we can reject the null hypothesis and conclude that there is a significant difference in the quality between different shoe widths."
   ]
  },
  {
   "cell_type": "markdown",
   "id": "bbacb6cb",
   "metadata": {},
   "source": [
    "4. Check if the shoe width feature affects the review summary with a 99% \n",
    "confidence interval."
   ]
  },
  {
   "cell_type": "code",
   "execution_count": 40,
   "id": "ae3e2d42",
   "metadata": {},
   "outputs": [
    {
     "name": "stdout",
     "output_type": "stream",
     "text": [
      "Chi-squared statistic: 129510.890, p-value: 0.000000\n"
     ]
    }
   ],
   "source": [
    "\n",
    "contingency_table = pd.crosstab(df1['shoe_width'], df1['review_summary'])\n",
    "\n",
    "chi2, pval, dof, expected = stats.chi2_contingency(contingency_table)\n",
    "\n",
    "\n",
    "print(f'Chi-squared statistic: {chi2:.3f}, p-value: {pval:f}')"
   ]
  },
  {
   "cell_type": "markdown",
   "id": "f539b694",
   "metadata": {},
   "source": [
    "since the p-value is less than 0.01, we can reject the null hypothesis and conclude that there is a significant association between the shoe width and review summary categories. "
   ]
  },
  {
   "cell_type": "markdown",
   "id": "d8229fab",
   "metadata": {},
   "source": [
    "5. Check if the length feature affects the review summary with a 95% confidence\n",
    "interval."
   ]
  },
  {
   "cell_type": "code",
   "execution_count": 41,
   "id": "b46c91e2",
   "metadata": {},
   "outputs": [
    {
     "name": "stdout",
     "output_type": "stream",
     "text": [
      "Chi-squared statistic: 265422.836, p-value: 0.000000\n"
     ]
    }
   ],
   "source": [
    "contingency_table = pd.crosstab(df1['length'], df1['review_summary'])\n",
    "\n",
    "chi2, pval, dof, expected = stats.chi2_contingency(contingency_table)\n",
    "\n",
    "\n",
    "print(f'Chi-squared statistic: {chi2:.3f}, p-value: {pval:f}')"
   ]
  },
  {
   "cell_type": "markdown",
   "id": "13e6cd93",
   "metadata": {},
   "source": [
    "6. Does the average quality significantly differ for the different fits? Kindly test the \n",
    "relevant hypothesis test by having 0.05 alpha.\n",
    "Check the normality of the data before the above test. Alpha = .05"
   ]
  },
  {
   "cell_type": "code",
   "execution_count": 42,
   "id": "a8ec5d4e",
   "metadata": {},
   "outputs": [
    {
     "name": "stdout",
     "output_type": "stream",
     "text": [
      "Fit: fit, Statistic: 0.825, p-value: 0.000\n",
      "Fit: large, Statistic: 0.869, p-value: 0.000\n",
      "Fit: small, Statistic: 0.902, p-value: 0.000\n"
     ]
    },
    {
     "name": "stderr",
     "output_type": "stream",
     "text": [
      "/opt/anaconda3/lib/python3.9/site-packages/scipy/stats/morestats.py:1760: UserWarning: p-value may not be accurate for N > 5000.\n",
      "  warnings.warn(\"p-value may not be accurate for N > 5000.\")\n"
     ]
    }
   ],
   "source": [
    "grouped_data = df1.groupby('fit')['quality']\n",
    "\n",
    "for fit, data in grouped_data:\n",
    "    stat, p = shapiro(data)\n",
    "    print(f'Fit: {fit}, Statistic: {stat:.3f}, p-value: {p:.3f}')"
   ]
  },
  {
   "cell_type": "code",
   "execution_count": 43,
   "id": "ccc6517a",
   "metadata": {},
   "outputs": [
    {
     "name": "stdout",
     "output_type": "stream",
     "text": [
      "F-statistic: 2137.263, p-value: 0.000\n"
     ]
    }
   ],
   "source": [
    "result = f_oneway(df1[df1['fit'] == 'fit']['quality'], \n",
    "                  df1[df1['fit'] == 'small']['quality'], \n",
    "                  df1[df1['fit'] == 'large']['quality'])\n",
    "\n",
    "print(f'F-statistic: {result.statistic:.3f}, p-value: {result.pvalue:.3f}')"
   ]
  },
  {
   "cell_type": "code",
   "execution_count": null,
   "id": "40fa57ba",
   "metadata": {},
   "outputs": [],
   "source": []
  }
 ],
 "metadata": {
  "kernelspec": {
   "display_name": "Python 3 (ipykernel)",
   "language": "python",
   "name": "python3"
  },
  "language_info": {
   "codemirror_mode": {
    "name": "ipython",
    "version": 3
   },
   "file_extension": ".py",
   "mimetype": "text/x-python",
   "name": "python",
   "nbconvert_exporter": "python",
   "pygments_lexer": "ipython3",
   "version": "3.9.12"
  }
 },
 "nbformat": 4,
 "nbformat_minor": 5
}
